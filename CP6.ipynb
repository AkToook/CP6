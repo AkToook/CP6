{
 "cells": [
  {
   "cell_type": "code",
   "execution_count": null,
   "id": "06a65979",
   "metadata": {},
   "outputs": [],
   "source": [
    "def calculate_grade(percentage):\n",
    "    if percentage >= 90:\n",
    "        return \"A+\"\n",
    "    elif percentage >= 80:\n",
    "        return \"A\"\n",
    "    elif percentage >= 70:\n",
    "        return \"B+\"\n",
    "    elif percentage >= 60:\n",
    "        return \"B\"\n",
    "    elif percentage >= 50:\n",
    "        return \"C\"\n",
    "    else:\n",
    "        return \"F\"\n",
    "\n",
    "def main():\n",
    "    # Ask the user to enter the number of students and the number of subjects\n",
    "    num_students = int(input(\"Enter the number of students: \"))\n",
    "    num_subjects = int(input(\"Enter the number of subjects: \"))\n",
    "\n",
    "    # Create lists to store the marks, total marks, percentage, and grades for each student\n",
    "    marks_list = []\n",
    "    total_marks_list = []\n",
    "    percentage_list = []\n",
    "    grades_list = []\n",
    "\n",
    "    # Ask the user to enter the marks of each student in each subject\n",
    "    for i in range(num_students):\n",
    "        print(f\"Enter marks for Student {i+1}:\")\n",
    "        marks = []\n",
    "        for j in range(num_subjects):\n",
    "            marks.append(int(input(f\"Subject {j+1}: \")))\n",
    "        marks_list.append(marks)\n",
    "\n",
    "        # Calculate the total marks for each student\n",
    "        total_marks = sum(marks)\n",
    "        total_marks_list.append(total_marks)\n",
    "\n",
    "        # Calculate the percentage for each student\n",
    "        percentage = (total_marks / (num_subjects * 100)) * 100\n",
    "        percentage_list.append(percentage)\n",
    "\n",
    "        # Calculate the grade for each student\n",
    "        grade = calculate_grade(percentage)\n",
    "        grades_list.append(grade)\n",
    "\n",
    "    # Display the result for each student in a tabular format\n",
    "    print(\"\\nResult:\")\n",
    "    print(\"Student\\tTotal Marks\\tPercentage\\tGrade\")\n",
    "    for i in range(num_students):\n",
    "        print(f\"{i+1}\\t{total_marks_list[i]}\\t\\t{percentage_list[i]:.2f}%\\t\\t{grades_list[i]}\")\n",
    "\n",
    "if __name__ == \"__main__\":\n",
    "    main()\n"
   ]
  }
 ],
 "metadata": {
  "kernelspec": {
   "display_name": "Python 3 (ipykernel)",
   "language": "python",
   "name": "python3"
  },
  "language_info": {
   "codemirror_mode": {
    "name": "ipython",
    "version": 3
   },
   "file_extension": ".py",
   "mimetype": "text/x-python",
   "name": "python",
   "nbconvert_exporter": "python",
   "pygments_lexer": "ipython3",
   "version": "3.10.9"
  }
 },
 "nbformat": 4,
 "nbformat_minor": 5
}
